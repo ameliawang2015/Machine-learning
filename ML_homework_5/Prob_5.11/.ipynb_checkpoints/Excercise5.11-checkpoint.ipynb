{
 "cells": [
  {
   "cell_type": "code",
   "execution_count": 1,
   "metadata": {},
   "outputs": [],
   "source": [
    "# This file is associated with the book\n",
    "# \"Machine Learning Refined\", Cambridge University Press, 2016.\n",
    "# by Jeremy Watt, Reza Borhani, and Aggelos Katsaggelos.\n",
    "\n",
    "import numpy as np\n",
    "import numpy.matlib\n",
    "import matplotlib.pyplot as plt\n",
    "from __future__ import division\n",
    "import pylab\n",
    "from sklearn.model_selection import KFold"
   ]
  },
  {
   "cell_type": "code",
   "execution_count": 2,
   "metadata": {},
   "outputs": [],
   "source": [
    "# load data\n",
    "def load_data():\n",
    "    data = np.array(np.genfromtxt('wavy_data.csv', delimiter=','))\n",
    "    x = np.reshape(data[:,0],(np.size(data[:,0]),1))\n",
    "    y = np.reshape(data[:,1],(np.size(data[:,1]),1))\n",
    "    return x,y\n",
    "\n",
    "x,y=load_data()\n",
    "kf = KFold(n_splits=3)\n",
    "kf.get_n_splits(x)\n",
    "KFold(n_splits=3)\n",
    "for train_index, test_index in kf.split(x):\n",
    "    X_train, X_test = x[train_index], x[test_index]\n",
    "    Y_train, Y_test = y[train_index], y[test_index]\n"
   ]
  },
  {
   "cell_type": "code",
   "execution_count": 21,
   "metadata": {},
   "outputs": [],
   "source": [
    "def build_fourier(X_train,X_test,D):\n",
    "    \n",
    "    X_train = X_train.flatten()\n",
    "    X_train.shape = (len(X_train),1)\n",
    "    F = np.asarray(X_train)\n",
    "    \n",
    "    X_test = X_test.flatten()\n",
    "    X_test.shape = (len(X_test),1)\n",
    "    F1 = np.asarray(X_test)\n",
    "   \n",
    "    for i in range(1,D):    \n",
    "        F=np.concatenate(np.cos(2*np.pi*i*X_train))\n",
    "        F=np.concatenate(np.sin(2*np.pi*i*X_train))\n",
    "        F1=np.concatenate(np.cos(2*np.pi*i*X_test))\n",
    "        F1=np.concatenate(np.sin(2*np.pi*i*X_test))\n",
    "    o = np.ones((1,np.shape(F)[0]))  \n",
    "    F = np.vstack((o,F.T))\n",
    "    o1= np.ones((1,np.shape(F1)[0])) \n",
    "    F1 = np.vstack((o1,F1.T))\n",
    "    \n",
    "    return F,F1"
   ]
  },
  {
   "cell_type": "code",
   "execution_count": 17,
   "metadata": {},
   "outputs": [],
   "source": [
    "# plot mse's over all D tested \n",
    "def plot_mse(mses,mses1,deg):\n",
    "    plt.plot(np.arange(1,np.size(mses)+1),mses,mses1,'ro--')\n",
    "    \n",
    "    plt.title('MSE on entire dataset in D', fontsize=18)\n",
    "    plt.xlabel('degree D', fontsize=18)\n",
    "    plt.ylabel('MSE       ', fontsize=18)\n",
    "\n"
   ]
  },
  {
   "cell_type": "code",
   "execution_count": 5,
   "metadata": {},
   "outputs": [],
   "source": [
    "# run over all the degrees, fit each models, and calculate errors\n",
    "def try_all_degs(X_train,Y_train,X_test,Y_test,deg_range):\n",
    "    # plot datapoints - one panel for each deg in deg_range\n",
    "    fig = plt.figure(figsize = (8,4))\n",
    "    #plot_data(x,y,deg_range)\n",
    "\n",
    "    # generate nonlinear features\n",
    "    mses = []\n",
    "    mses1=[]\n",
    "    for D in np.arange(0,len(deg_range)):\n",
    "        # generate poly feature transformation\n",
    "        F,F1 = build_fourier(X_train,X_test,deg_range[D])\n",
    "       \n",
    "        # get weights for current model\n",
    "        \n",
    "        temp = np.linalg.pinv(np.dot(F,F.T))\n",
    "        w = np.dot(temp,np.dot(F,Y_train))\n",
    "        MSE = np.linalg.norm(np.dot(F.T,w)-Y_train)/np.size(Y_train)\n",
    "        mses.append(MSE)\n",
    "\n",
    "        temp1 = np.linalg.pinv(np.dot(F1,F1.T))\n",
    "        w = np.dot(temp1,np.dot(F1,Y_test))\n",
    "        MSE1 = np.linalg.norm(np.dot(F1.T,w)-Y_test)/np.size(Y_test)\n",
    "        mses1.append(MSE1)\n",
    "\n",
    "    # make plot of mse's\n",
    "    fig = plt.figure(figsize = (5,5))\n",
    "    plot_mse(mses,mses1,deg_range)\n",
    "    plt.show()"
   ]
  },
  {
   "cell_type": "code",
   "execution_count": 22,
   "metadata": {},
   "outputs": [
    {
     "data": {
      "text/plain": [
       "<matplotlib.figure.Figure at 0x32b6370>"
      ]
     },
     "metadata": {},
     "output_type": "display_data"
    },
    {
     "data": {
      "image/png": "[encoded data removed]",
      "text/plain": [
       "<matplotlib.figure.Figure at 0x33610b0>"
      ]
     },
     "metadata": {},
     "output_type": "display_data"
    }
   ],
   "source": [
    "deg_range = [1,3,5,7,15,20]           # degree polys to try\n",
    "\n",
    "# run all over degree range\n",
    "try_all_degs(X_train,Y_train,X_test,Y_test,deg_range)"
   ]
  },
  {
   "cell_type": "code",
   "execution_count": null,
   "metadata": {},
   "outputs": [],
   "source": []
  }
 ],
 "metadata": {
  "kernelspec": {
   "display_name": "Python 3",
   "language": "python",
   "name": "python3"
  },
  "language_info": {
   "codemirror_mode": {
    "name": "ipython",
    "version": 3
   },
   "file_extension": ".py",
   "mimetype": "text/x-python",
   "name": "python",
   "nbconvert_exporter": "python",
   "pygments_lexer": "ipython3",
   "version": "3.6.4"
  }
 },
 "nbformat": 4,
 "nbformat_minor": 2
}
