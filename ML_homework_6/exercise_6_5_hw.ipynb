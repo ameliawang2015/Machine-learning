{
 "cells": [
  {
   "cell_type": "code",
   "execution_count": null,
   "metadata": {
    "collapsed": true
   },
   "outputs": [],
   "source": [
    "# This file is associated with the book\n",
    "# \"Machine Learning Refined\", Cambridge University Press, 2016.\n",
    "# by Jeremy Watt, Reza Borhani, and Aggelos Katsaggelos.\n",
    "\n",
    "import numpy as np\n",
    "import numpy.matlib'[']'\n",
    "import matplotlib.pyplot as plt\n",
    "from __future__ import division"
   ]
  },
  {
   "cell_type": "markdown",
   "metadata": {},
   "source": [
    "A simple data loading function."
   ]
  },
  {
   "cell_type": "code",
   "execution_count": null,
   "metadata": {
    "collapsed": true
   },
   "outputs": [],
   "source": [
    "### load data\n",
    "def load_data(csvname):\n",
    "    data = np.array(np.genfromtxt(csvname, delimiter=','))\n",
    "    X = data[:,0:-1]\n",
    "    y = data[:,-1]\n",
    "    y = np.reshape(y,(np.size(y),1))\n",
    "    return X,y"
   ]
  },
  {
   "cell_type": "markdown",
   "metadata": {},
   "source": [
    "All of the functionality we need to create a gradient descent loop - including functions for computing cost function value, and the descent loop itself."
   ]
  },
  {
   "cell_type": "code",
   "execution_count": null,
   "metadata": {
    "collapsed": true
   },
   "outputs": [],
   "source": [
    "# YOUR CODE GOES HERE -- gradient descent for single layer tanh nn \n",
    "def gradient_descent(X,y,M):\n",
    "\n",
    "\n",
    "    return b, w, c, V"
   ]
  },
  {
   "cell_type": "markdown",
   "metadata": {},
   "source": [
    "Next our plotting functionality - both plotting points and nonlinear separator."
   ]
  },
  {
   "cell_type": "code",
   "execution_count": null,
   "metadata": {
    "collapsed": true
   },
   "outputs": [],
   "source": [
    "# plot points\n",
    "def plot_points(X,y):\n",
    "    ind = np.nonzero(y==1)[0]\n",
    "    plt.plot(X[ind,0],X[ind,1],'ro')\n",
    "    ind = np.nonzero(y==-1)[0]\n",
    "    plt.plot(X[ind,0],X[ind,1],'bo')\n",
    "    plt.hold(True)\n",
    "\n",
    "# plot the seprator + surface\n",
    "def plot_separator(b,w,c,V,X,y):\n",
    "    s = np.arange(-1,1,.01)\n",
    "    s1, s2 = np.meshgrid(s,s)\n",
    "\n",
    "    s1 = np.reshape(s1,(np.size(s1),1))\n",
    "    s2 = np.reshape(s2,(np.size(s2),1))\n",
    "    g = np.zeros((np.size(s1),1))\n",
    "\n",
    "    t = np.zeros((2,1))\n",
    "    for i in np.arange(0,np.size(s1)):\n",
    "        t[0] = s1[i]\n",
    "        t[1] = s2[i]\n",
    "        F = compute_cost(c,V,t)\n",
    "        g[i] = np.tanh(b + np.dot(F.T,w))\n",
    "\n",
    "    s1 = np.reshape(s1,(np.size(s),np.size(s)))\n",
    "    s2 = np.reshape(s2,(np.size(s),np.size(s)))\n",
    "    g = np.reshape(g,(np.size(s),np.size(s)))\n",
    "\n",
    "    # plot contour in original space\n",
    "    plt.contour(s1,s2,g,1,color = 'k')\n",
    "    plt.gca().xaxis.set_major_locator(plt.NullLocator())\n",
    "    plt.gca().yaxis.set_major_locator(plt.NullLocator())\n",
    "    plt.xlim(0,1)\n",
    "    plt.ylim(0,1)\n",
    "    plt.hold(True)"
   ]
  },
  {
   "cell_type": "markdown",
   "metadata": {},
   "source": [
    "With everything defined lets run all."
   ]
  },
  {
   "cell_type": "code",
   "execution_count": null,
   "metadata": {},
   "outputs": [],
   "source": [
    "# load data\n",
    "X, y = load_data('genreg_data.csv')\n",
    "M = 4                  # number of basis functions to use / hidden units\n",
    "\n",
    "# perform gradient descent to fit tanh basis sum\n",
    "b,w,c,V = gradient_descent(X.T,y,M)\n",
    "\n",
    "# plot resulting fit\n",
    "fig = plt.figure(facecolor = 'white',figsize = (4,4))\n",
    "plot_points(X,y)\n",
    "plot_separator(b,w,c,V,X,y)\n",
    "plt.show()"
   ]
  }
 ],
 "metadata": {
  "anaconda-cloud": {},
  "kernelspec": {
   "display_name": "Python 3",
   "language": "python",
   "name": "python3"
  },
  "language_info": {
   "codemirror_mode": {
    "name": "ipython",
    "version": 3
   },
   "file_extension": ".py",
   "mimetype": "text/x-python",
   "name": "python",
   "nbconvert_exporter": "python",
   "pygments_lexer": "ipython3",
   "version": "3.6.4"
  }
 },
 "nbformat": 4,
 "nbformat_minor": 1
}
